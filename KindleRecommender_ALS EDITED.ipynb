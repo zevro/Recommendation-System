{
 "cells": [
  {
   "cell_type": "code",
   "execution_count": null,
   "metadata": {
    "id": "kiIElyF-YyRL"
   },
   "outputs": [],
   "source": [
    "import os\n",
    "import time\n",
    "\n",
    "# spark imports\n",
    "from pyspark.sql import SparkSession\n",
    "from pyspark.sql.functions import UserDefinedFunction, explode, desc\n",
    "from pyspark.sql.types import StringType, ArrayType\n",
    "from pyspark.ml.recommendation import ALS\n",
    "from pyspark.ml.evaluation import RegressionEvaluator\n",
    "from pyspark.ml.feature import StringIndexer\n",
    "from pyspark.ml import Pipeline\n",
    "from pyspark.sql.functions import col\n",
    "from pyspark.ml.tuning import ParamGridBuilder, CrossValidator\n",
    "\n",
    "# data science imports\n",
    "import math\n",
    "import numpy as np\n",
    "import pandas as pd\n",
    "\n",
    "# data viz imports\n",
    "import seaborn as sns\n",
    "import matplotlib.pyplot as plt\n",
    "\n",
    "%matplotlib inline"
   ]
  },
  {
   "cell_type": "code",
   "execution_count": null,
   "metadata": {
    "id": "1CtpLhPhYyRQ"
   },
   "outputs": [],
   "source": [
    "# spark config\n",
    "spark = SparkSession \\\n",
    "    .builder \\\n",
    "    .appName(\"ebook recommendation\") \\\n",
    "    .config(\"spark.driver.maxResultSize\", \"96g\") \\\n",
    "    .config(\"spark.driver.memory\", \"96g\") \\\n",
    "    .config(\"spark.executor.memory\", \"8g\") \\\n",
    "    .config(\"spark.master\", \"local[12]\") \\\n",
    "    .getOrCreate()\n",
    "# spark context\n",
    "sc = spark.sparkContext"
   ]
  },
  {
   "cell_type": "code",
   "execution_count": null,
   "metadata": {
    "id": "QMP0yjQoYyRR"
   },
   "outputs": [],
   "source": [
    "data_path = os.path.join('Your_file_here')"
   ]
  },
  {
   "cell_type": "code",
   "execution_count": null,
   "metadata": {
    "id": "kbnJqY4-YyRR"
   },
   "outputs": [],
   "source": [
    "# read file\n",
    "df = spark.read.load(os.path.join(data_path), format='csv', header=True, inferSchema=True)"
   ]
  },
  {
   "cell_type": "code",
   "execution_count": null,
   "metadata": {
    "id": "fqQZvF55YyRR"
   },
   "outputs": [],
   "source": [
    "df = df.sample(0.1)"
   ]
  },
  {
   "cell_type": "code",
   "execution_count": null,
   "metadata": {
    "id": "IaXqLZ3PYyRS",
    "outputId": "6aa46e24-d3a0-4be7-8653-fab984cd8be0"
   },
   "outputs": [
    {
     "data": {
      "text/plain": [
       "DataFrame[ : string, asin: string, helpful: string, overall: int, reviewText: string, reviewTime: string, reviewerID: string, reviewerName: string, summary: string, unixReviewTime: string]"
      ]
     },
     "execution_count": 65,
     "metadata": {
      "tags": []
     },
     "output_type": "execute_result"
    }
   ],
   "source": [
    "# drop rows with nulls\n",
    "df.na.drop()"
   ]
  },
  {
   "cell_type": "code",
   "execution_count": null,
   "metadata": {
    "id": "5SDW2KX3YyRT",
    "outputId": "de854bc1-880a-498d-ac5f-fcac3276926e"
   },
   "outputs": [
    {
     "name": "stdout",
     "output_type": "stream",
     "text": [
      "+---+----------+--------+-------+--------------------+--------------------+--------------------+--------------------+--------------------+--------------+\n",
      "|   |      asin| helpful|overall|          reviewText|          reviewTime|          reviewerID|        reviewerName|             summary|unixReviewTime|\n",
      "+---+----------+--------+-------+--------------------+--------------------+--------------------+--------------------+--------------------+--------------+\n",
      "|  1|B000F83SZQ|  [2, 2]|      4|This book is a re...|          01 6, 2014|       AN0N05A9LIJEQ|            critters|        Different...|    1388966400|\n",
      "|  7|B000F83SZQ|  [1, 1]|      4|Never heard of Am...|         03 22, 2014|      A3DE6XGZ2EPADS|                 WPY|Enjoyable reading...|    1395446400|\n",
      "| 13|B000FA64PK|  [0, 0]|      3|Troy Denning's no...|         03 15, 2012|      A3SZMGJMV0G16C|\"Andrew Pruette \"...|Han and Leia reun...|    1331769600|\n",
      "| 32|B000FBFMVG|  [0, 0]|      5|I love the storie...|         01 27, 2014|      A1ZT7WV0ZUA0OJ|                Mike|       my collection|    1390780800|\n",
      "| 35|B000FC1BN8|  [1, 1]|      3|\"Timothy Zahn's F...|\"\" vs. a truth wh...| Twister sees a p...| rather than simp...| Fool's Bargain i...|   09 24, 2010|\n",
      "| 54|B000FC26RI|  [0, 0]|      4|As an aspiring yo...|         02 13, 2013|      A2Y1X56N8NPH8G|\"Heather \"\"Houndo...|     A good resource|    1360713600|\n",
      "| 59|B000FC2MB8|  [0, 0]|      5|BRIONNE is anothe...|         04 21, 2014|      A1CQ8WG6CUDBNV|                gail|                Gail|    1398038400|\n",
      "| 63|B000FC2MB8|  [0, 0]|      5|I look forward to...|         07 30, 2013|       AEC18J7P03ZBP|             pigskin|Also, exciting an...|    1375142400|\n",
      "| 82|B000GFK7L6|  [0, 0]|      5|There is so much ...|          03 3, 2014|      A3GXR6CHHPX0JS|         Barry Owens|I wish I had time...|    1393804800|\n",
      "| 86|B000GFK7L6|  [0, 1]|      1|I have not receiv...|          02 9, 2014|      A3BBW3E3I1QWU1|       Douglas Banks|       NONE RECEIVED|    1391904000|\n",
      "| 96|B000GFK7L6|  [0, 0]|      4|I LOVE the NY TIM...|         12 28, 2012|       AJLPS4A9HGOQK|            Patricia|The Times is Grea...|    1356652800|\n",
      "| 99|B000GFK7L6|  [0, 0]|      5|Love the paper. G...|         01 30, 2011|      A1W5C4LPCVTPXE|             sunmoon|Great Paper but w...|    1296345600|\n",
      "|105|B000HA4FKY|[55, 62]|      5|I live in Boston ...|         03 15, 2008|      A32Q5HN7RQN6GL|             PHL1111|Finally! Easy to ...|    1205539200|\n",
      "|109|B000HC48T0|  [0, 0]|      4|The reporting is ...|          10 2, 2013|      A3AKG73AM4OKSI|              Dave W|      good reporting|    1380672000|\n",
      "|110|B000HC48T0|  [3, 4]|      5|I enjoy getting t...|         02 26, 2009|      A3DKP8M0GSP8UK| Justice for Trayvon|Kindle Washington...|    1235606400|\n",
      "|121|B000JMKNQ0|  [0, 0]|      5|I haven't gotten ...|         01 27, 2014|      A1ZT7WV0ZUA0OJ|                Mike|       my collection|    1390780800|\n",
      "|141|B000JMKX4W|  [0, 1]|      2|This may not be a...|         01 11, 2013|       AV4VME0NQTIH3|            debrakib|    Could not finish|    1357862400|\n",
      "|155|B000JMKXYW|  [0, 0]|      1|He doesn't need m...|         05 25, 2013|      A2G3C7LJGXLEGF|\"mcampey \"\"Music ...|  Twain will be okay|    1369440000|\n",
      "|173|B000JML1QG|  [0, 0]|      5|This is a fascina...|         04 14, 2013|      A3PMV0LPE6HTLQ|      Miss H. Holmes|                 GFS|    1365897600|\n",
      "|234|B000JMLBHU|  [0, 0]|      5|I have been tryin...|         11 25, 2012|      A260HE0AYLYBWA|              IB4Fun|        Classic book|    1353801600|\n",
      "+---+----------+--------+-------+--------------------+--------------------+--------------------+--------------------+--------------------+--------------+\n",
      "only showing top 20 rows\n",
      "\n"
     ]
    }
   ],
   "source": [
    "df.show()"
   ]
  },
  {
   "cell_type": "code",
   "execution_count": null,
   "metadata": {
    "id": "K1Go0m7SYyRT",
    "outputId": "dcb0577e-e11f-4b05-cb58-885de0ead754"
   },
   "outputs": [
    {
     "name": "stdout",
     "output_type": "stream",
     "text": [
      "+----------+-------+--------------------+\n",
      "|      asin|overall|          reviewerID|\n",
      "+----------+-------+--------------------+\n",
      "|B000F83SZQ|      4|       AN0N05A9LIJEQ|\n",
      "|B000F83SZQ|      4|      A3DE6XGZ2EPADS|\n",
      "|B000FA64PK|      3|      A3SZMGJMV0G16C|\n",
      "|B000FBFMVG|      5|      A1ZT7WV0ZUA0OJ|\n",
      "|B000FC1BN8|      3| Twister sees a p...|\n",
      "|B000FC26RI|      4|      A2Y1X56N8NPH8G|\n",
      "|B000FC2MB8|      5|      A1CQ8WG6CUDBNV|\n",
      "|B000FC2MB8|      5|       AEC18J7P03ZBP|\n",
      "|B000GFK7L6|      5|      A3GXR6CHHPX0JS|\n",
      "|B000GFK7L6|      1|      A3BBW3E3I1QWU1|\n",
      "|B000GFK7L6|      4|       AJLPS4A9HGOQK|\n",
      "|B000GFK7L6|      5|      A1W5C4LPCVTPXE|\n",
      "|B000HA4FKY|      5|      A32Q5HN7RQN6GL|\n",
      "|B000HC48T0|      4|      A3AKG73AM4OKSI|\n",
      "|B000HC48T0|      5|      A3DKP8M0GSP8UK|\n",
      "|B000JMKNQ0|      5|      A1ZT7WV0ZUA0OJ|\n",
      "|B000JMKX4W|      2|       AV4VME0NQTIH3|\n",
      "|B000JMKXYW|      1|      A2G3C7LJGXLEGF|\n",
      "|B000JML1QG|      5|      A3PMV0LPE6HTLQ|\n",
      "|B000JMLBHU|      5|      A260HE0AYLYBWA|\n",
      "+----------+-------+--------------------+\n",
      "only showing top 20 rows\n",
      "\n"
     ]
    }
   ],
   "source": [
    "# isolate asin, rating & reviewer id\n",
    "ratings = df.select(df['asin'],df['overall'],df['reviewerID'])\n",
    "ratings.show()"
   ]
  },
  {
   "cell_type": "code",
   "execution_count": null,
   "metadata": {
    "id": "GYnPkiFHYyRT",
    "outputId": "65871807-658e-4917-c57a-aeeb8e5530cd"
   },
   "outputs": [
    {
     "name": "stdout",
     "output_type": "stream",
     "text": [
      "+--------------+-----+\n",
      "|    reviewerID|count|\n",
      "+--------------+-----+\n",
      "|A2WZJDFX12QXKD|   97|\n",
      "|A13QTZ8CIMHHG4|   87|\n",
      "|A3PTWPKPXOG8Y5|   81|\n",
      "| A2YJ8VP1SSHJ7|   72|\n",
      "| A320TMDV6KCFU|   71|\n",
      "|A37LY77Q2YPJVL|   62|\n",
      "|A2VXSQHJWZAQGY|   61|\n",
      "|A2JZCZYHNQHSCP|   60|\n",
      "|A328S9RN3U5M68|   57|\n",
      "| AR9RKLQQC2L6K|   55|\n",
      "|A3A7FF87LEVCQ1|   51|\n",
      "| A5JZNVV4TEAWU|   49|\n",
      "|A20R37WRPLUM1D|   49|\n",
      "| AWAP0KEX6POQV|   47|\n",
      "|A14PRVP4JK88E7|   47|\n",
      "|A3U41P3MHAEXYU|   46|\n",
      "| A3LXRIY0HE71K|   46|\n",
      "|A2G5IFYYHFIQNB|   45|\n",
      "|A3KH1OB5BYYQ8H|   45|\n",
      "|A3GSSX9XHONVCD|   45|\n",
      "+--------------+-----+\n",
      "only showing top 20 rows\n",
      "\n"
     ]
    }
   ],
   "source": [
    "# most active reviewers\n",
    "ratings_by_user = ratings.groupBy(\"reviewerID\").count().orderBy('count', ascending=False)\n",
    "ratings_by_user.show()"
   ]
  },
  {
   "cell_type": "code",
   "execution_count": null,
   "metadata": {
    "id": "hgXcPPO6YyRT",
    "outputId": "aed30430-6ed4-49bc-f53f-90783fb0ea63"
   },
   "outputs": [
    {
     "name": "stdout",
     "output_type": "stream",
     "text": [
      "+----------+-----+\n",
      "|      asin|count|\n",
      "+----------+-----+\n",
      "|B006GWO5WK|  127|\n",
      "|B00BTIDW4S|   80|\n",
      "|B00BT0J8ZS|   52|\n",
      "|B00BSX4U04|   51|\n",
      "|B00H0V069M|   47|\n",
      "|B005DOK8NW|   46|\n",
      "|B00BTIDXVU|   45|\n",
      "|B00KF0URBM|   40|\n",
      "|B004E10W0E|   39|\n",
      "|B007R5YDYA|   38|\n",
      "|B00BTIDOO6|   37|\n",
      "|B0050PJZLK|   36|\n",
      "|B0038KX8S0|   35|\n",
      "|B00EYMXM2I|   35|\n",
      "|B00KOSOX2O|   35|\n",
      "|B005QEA87A|   34|\n",
      "|B007YJ3JV2|   34|\n",
      "|B00HYQJPC2|   33|\n",
      "|B00E5JAIP4|   33|\n",
      "|B005ME39HU|   33|\n",
      "+----------+-----+\n",
      "only showing top 20 rows\n",
      "\n"
     ]
    }
   ],
   "source": [
    "# most frequently reviewed ebooks\n",
    "ratings_by_ebook = ratings.groupBy(\"asin\").count().orderBy('count', ascending=False)\n",
    "ratings_by_ebook.show()"
   ]
  },
  {
   "cell_type": "code",
   "execution_count": null,
   "metadata": {
    "id": "FJA3PyzuYyRU",
    "outputId": "10c85136-c4b5-48f4-a021-07e8312173ed"
   },
   "outputs": [
    {
     "name": "stdout",
     "output_type": "stream",
     "text": [
      "+----------+-------+--------------------+----------+----------------+\n",
      "|      asin|overall|          reviewerID|asin_index|reviewerID_index|\n",
      "+----------+-------+--------------------+----------+----------------+\n",
      "|B000F83SZQ|      4|       AN0N05A9LIJEQ|   11468.0|          1107.0|\n",
      "|B000F83SZQ|      4|      A3DE6XGZ2EPADS|   11468.0|         15790.0|\n",
      "|B000FA64PK|      3|      A3SZMGJMV0G16C|   21625.0|         40904.0|\n",
      "|B000FBFMVG|      5|      A1ZT7WV0ZUA0OJ|   21626.0|         12235.0|\n",
      "|B000FC1BN8|      3| Twister sees a p...|   21627.0|         20268.0|\n",
      "|B000FC26RI|      4|      A2Y1X56N8NPH8G|   21628.0|          2217.0|\n",
      "|B000FC2MB8|      5|      A1CQ8WG6CUDBNV|   11469.0|         26949.0|\n",
      "|B000FC2MB8|      5|       AEC18J7P03ZBP|   11469.0|         43045.0|\n",
      "|B000GFK7L6|      5|      A3GXR6CHHPX0JS|    4400.0|         16048.0|\n",
      "|B000GFK7L6|      1|      A3BBW3E3I1QWU1|    4400.0|         15640.0|\n",
      "|B000GFK7L6|      4|       AJLPS4A9HGOQK|    4400.0|         43868.0|\n",
      "|B000GFK7L6|      5|      A1W5C4LPCVTPXE|    4400.0|         30010.0|\n",
      "|B000HA4FKY|      5|      A32Q5HN7RQN6GL|   21629.0|         14993.0|\n",
      "|B000HC48T0|      4|      A3AKG73AM4OKSI|   11470.0|         37988.0|\n",
      "|B000HC48T0|      5|      A3DKP8M0GSP8UK|   11470.0|         38484.0|\n",
      "|B000JMKNQ0|      5|      A1ZT7WV0ZUA0OJ|   21630.0|         12235.0|\n",
      "|B000JMKX4W|      2|       AV4VME0NQTIH3|   21631.0|         19123.0|\n",
      "|B000JMKXYW|      1|      A2G3C7LJGXLEGF|   21632.0|         33133.0|\n",
      "|B000JML1QG|      5|      A3PMV0LPE6HTLQ|   21633.0|         40361.0|\n",
      "|B000JMLBHU|      5|      A260HE0AYLYBWA|    1571.0|         12651.0|\n",
      "+----------+-------+--------------------+----------+----------------+\n",
      "only showing top 20 rows\n",
      "\n"
     ]
    }
   ],
   "source": [
    "# ALS only takes int params\n",
    "# convert reviewerid & ASIN to int\n",
    "indexer = [StringIndexer(inputCol=column, outputCol=column+\"_index\", handleInvalid='skip')\n",
    "           for column in list(set(ratings.columns)-set(['overall'])) ]\n",
    "pipeline = Pipeline(stages=indexer)\n",
    "\n",
    "transformed = pipeline.fit(ratings).transform(ratings)\n",
    "transformed.show()"
   ]
  },
  {
   "cell_type": "code",
   "execution_count": null,
   "metadata": {
    "id": "tpzFNEWcYyRU"
   },
   "outputs": [],
   "source": [
    "(train,test) = transformed.randomSplit([0.8, 0.2], seed=2021)"
   ]
  },
  {
   "cell_type": "code",
   "execution_count": null,
   "metadata": {
    "id": "hXE7M9ZJYyRU"
   },
   "outputs": [],
   "source": [
    "als = ALS(maxIter=5,\n",
    "          regParam=0.15,\n",
    "          rank=100,\n",
    "          userCol=\"reviewerID_index\",\n",
    "          itemCol=\"asin_index\",\n",
    "          ratingCol=\"overall\",\n",
    "          coldStartStrategy=\"drop\",\n",
    "          implicitPrefs=False,\n",
    "          nonnegative=True)"
   ]
  },
  {
   "cell_type": "code",
   "execution_count": null,
   "metadata": {
    "id": "sOdAAWTcYyRV"
   },
   "outputs": [],
   "source": [
    "model = als.fit(train)"
   ]
  },
  {
   "cell_type": "code",
   "execution_count": null,
   "metadata": {
    "id": "KCIwCi75YyRV",
    "outputId": "9b496220-16b0-45b4-98bc-8e58b184fa97"
   },
   "outputs": [
    {
     "name": "stdout",
     "output_type": "stream",
     "text": [
      "RMSE = 1.9897225225710997\n",
      "+----------+-------+--------------+----------+----------------+----------+\n",
      "|      asin|overall|    reviewerID|asin_index|reviewerID_index|prediction|\n",
      "+----------+-------+--------------+----------+----------------+----------+\n",
      "|B00H5XAQOU|      5|A2GH8KS5V49L1W|     148.0|         13390.0| 2.1768775|\n",
      "|B00H5XAQOU|      5|A1A34DY20PYGDY|     148.0|          1907.0| 4.5533795|\n",
      "|B00H5XAQOU|      5| ANXJZG2443VYJ|     148.0|         18642.0| 3.8712943|\n",
      "|B00H5XAQOU|      4|A3MWMOHKRH0LL1|     148.0|          2340.0| 4.4260373|\n",
      "|B00586XP5S|      5|A1EU8RXIQIDKD8|     463.0|         10753.0|  2.927475|\n",
      "|B00ASH7SJG|      5| ALN8WLYCEK22X|     496.0|           711.0| 3.7765102|\n",
      "|B00EBGBKN0|      5|A3UMD6AT2JDDOS|     833.0|         17020.0| 3.2867382|\n",
      "|B00EBGBKN0|      5|A13H6BLWC6IGOX|     833.0|           390.0| 4.1971483|\n",
      "|B00EBGBKN0|      5|A1J0CIRFPTG4N8|     833.0|         11087.0| 3.7641933|\n",
      "|B00EBGBKN0|      5|A2AQB7O9JOGM78|     833.0|         12984.0| 3.6036403|\n",
      "|B00EBGBKN0|      5|A3DANGFIJBZP20|     833.0|           281.0| 4.0550017|\n",
      "|B00FCY77DC|      5|A105K4Y97HVFR8|    1088.0|          3586.0|  4.120954|\n",
      "|B00FCY77DC|      5| ASM7SJ7QFHM2W|    1088.0|          9309.0|  4.350664|\n",
      "|B00FCY77DC|      5|A28CZXXUW9BH0Z|    1088.0|          1566.0| 4.3778334|\n",
      "|B00737IJZQ|      3|A3U43NRTFNK0VF|    1238.0|          5016.0| 3.2286332|\n",
      "|B00BNFLCGW|      5|A3BR1CG9CRXB6Z|    1342.0|          1040.0| 4.0049477|\n",
      "|B004X2JH5U|      3|A30HGPDQESA73Q|    1591.0|         14830.0| 2.8341413|\n",
      "|B006LAOIWY|      5|A3TAF7M58DN46F|    1645.0|          1740.0|  2.333254|\n",
      "|B00C5RY1G0|      5|A1T9V9HPSU3PPW|    1829.0|          6433.0|  2.110658|\n",
      "|B00G8UVD66|      4|A3V2ALCUWFHAIZ|    1959.0|           244.0|   3.52219|\n",
      "+----------+-------+--------------+----------+----------------+----------+\n",
      "only showing top 20 rows\n",
      "\n"
     ]
    }
   ],
   "source": [
    "evaluator = RegressionEvaluator(metricName=\"rmse\", labelCol=\"overall\", predictionCol=\"prediction\")\n",
    "predictions = model.transform(test)\n",
    "rmse = evaluator.evaluate(predictions)\n",
    "print(\"RMSE = \" + str(rmse))\n",
    "predictions.show()"
   ]
  },
  {
   "cell_type": "code",
   "execution_count": null,
   "metadata": {
    "id": "TxMRPdF0YyRV",
    "outputId": "d2c75b30-b8b5-497a-bd03-b294e553285b"
   },
   "outputs": [
    {
     "name": "stdout",
     "output_type": "stream",
     "text": [
      "+----------------+--------------------+\n",
      "|reviewerID_index|     recommendations|\n",
      "+----------------+--------------------+\n",
      "|           15846|[{15941, 4.932573...|\n",
      "|            1051|[{4439, 4.956513}...|\n",
      "|             596|[{13249, 4.841562...|\n",
      "|           28153|[{10181, 2.224671...|\n",
      "|           24801|[{19179, 4.347111...|\n",
      "|           20593|[{22221, 3.926091...|\n",
      "|           10338|[{10111, 4.321809...|\n",
      "|             692|[{6140, 4.9419117...|\n",
      "|           21606|[{22499, 2.908265...|\n",
      "|             299|[{21932, 4.919957...|\n",
      "|            9753|[{4445, 3.883203}...|\n",
      "|            4066|[{1464, 4.9105616...|\n",
      "|           36797|[{18464, 4.424031...|\n",
      "|            7487|[{3211, 4.048864}...|\n",
      "|           25175|[{6886, 3.9506187...|\n",
      "|            3597|[{12882, 4.983201...|\n",
      "|             769|[{14429, 5.018352...|\n",
      "|           10129|[{6868, 4.368421}...|\n",
      "|           17633|[{12118, 5.012356...|\n",
      "|             934|[{31956, 5.138658...|\n",
      "+----------------+--------------------+\n",
      "\n"
     ]
    }
   ],
   "source": [
    "# top 10 ebook recs for reviewer subset\n",
    "reviewers = transformed.select(als.getUserCol()).distinct().limit(20)\n",
    "reviewer_subset_recs = model.recommendForUserSubset(reviewers, 10) \n",
    "reviewer_subset_recs.show()"
   ]
  },
  {
   "cell_type": "code",
   "execution_count": null,
   "metadata": {
    "id": "hfd10oyNYyRV",
    "outputId": "1e4d1191-f117-49e6-c0f4-09d121f8b3a1"
   },
   "outputs": [
    {
     "data": {
      "text/html": [
       "<div>\n",
       "<style scoped>\n",
       "    .dataframe tbody tr th:only-of-type {\n",
       "        vertical-align: middle;\n",
       "    }\n",
       "\n",
       "    .dataframe tbody tr th {\n",
       "        vertical-align: top;\n",
       "    }\n",
       "\n",
       "    .dataframe thead th {\n",
       "        text-align: right;\n",
       "    }\n",
       "</style>\n",
       "<table border=\"1\" class=\"dataframe\">\n",
       "  <thead>\n",
       "    <tr style=\"text-align: right;\">\n",
       "      <th></th>\n",
       "      <th>reviewerID_index</th>\n",
       "      <th>recommendations</th>\n",
       "    </tr>\n",
       "  </thead>\n",
       "  <tbody>\n",
       "    <tr>\n",
       "      <th>0</th>\n",
       "      <td>49202</td>\n",
       "      <td>[(45660, 4.652079105377197), (57352, 4.5650959...</td>\n",
       "    </tr>\n",
       "    <tr>\n",
       "      <th>1</th>\n",
       "      <td>6067</td>\n",
       "      <td>[(39900, 7.333075523376465), (54358, 7.2294416...</td>\n",
       "    </tr>\n",
       "    <tr>\n",
       "      <th>2</th>\n",
       "      <td>692</td>\n",
       "      <td>[(39900, 6.409720420837402), (40344, 6.3910088...</td>\n",
       "    </tr>\n",
       "    <tr>\n",
       "      <th>3</th>\n",
       "      <td>44711</td>\n",
       "      <td>[(53624, 5.558377265930176), (56525, 5.3301939...</td>\n",
       "    </tr>\n",
       "    <tr>\n",
       "      <th>4</th>\n",
       "      <td>42470</td>\n",
       "      <td>[(45968, 8.464125633239746), (39900, 8.3477182...</td>\n",
       "    </tr>\n",
       "  </tbody>\n",
       "</table>\n",
       "</div>"
      ],
      "text/plain": [
       "   reviewerID_index                                    recommendations\n",
       "0             49202  [(45660, 4.652079105377197), (57352, 4.5650959...\n",
       "1              6067  [(39900, 7.333075523376465), (54358, 7.2294416...\n",
       "2               692  [(39900, 6.409720420837402), (40344, 6.3910088...\n",
       "3             44711  [(53624, 5.558377265930176), (56525, 5.3301939...\n",
       "4             42470  [(45968, 8.464125633239746), (39900, 8.3477182..."
      ]
     },
     "execution_count": 18,
     "metadata": {
      "tags": []
     },
     "output_type": "execute_result"
    }
   ],
   "source": [
    "reviewer_subset_recs = reviewer_subset_recs.toPandas()\n",
    "reviewer_subset_recs.head()"
   ]
  },
  {
   "cell_type": "code",
   "execution_count": null,
   "metadata": {
    "id": "U0bYP6FhYyRW"
   },
   "outputs": [],
   "source": [
    "# function to take ebook ASINs\n",
    "def asin_index_taker(row):\n",
    "    asin_index = ''\n",
    "    for i in row['recommendations']:\n",
    "        asin_index += str(i['asin_index']) + ','\n",
    "    return asin_index"
   ]
  },
  {
   "cell_type": "code",
   "execution_count": null,
   "metadata": {
    "id": "AX1r7MXPYyRW",
    "outputId": "9e143c4a-f17f-463b-e2d3-d62a6a0f0526"
   },
   "outputs": [
    {
     "data": {
      "text/html": [
       "<div>\n",
       "<style scoped>\n",
       "    .dataframe tbody tr th:only-of-type {\n",
       "        vertical-align: middle;\n",
       "    }\n",
       "\n",
       "    .dataframe tbody tr th {\n",
       "        vertical-align: top;\n",
       "    }\n",
       "\n",
       "    .dataframe thead th {\n",
       "        text-align: right;\n",
       "    }\n",
       "</style>\n",
       "<table border=\"1\" class=\"dataframe\">\n",
       "  <thead>\n",
       "    <tr style=\"text-align: right;\">\n",
       "      <th></th>\n",
       "      <th>reviewerID_index</th>\n",
       "      <th>recommendations</th>\n",
       "      <th>recommended_ebooks</th>\n",
       "    </tr>\n",
       "  </thead>\n",
       "  <tbody>\n",
       "    <tr>\n",
       "      <th>0</th>\n",
       "      <td>49202</td>\n",
       "      <td>[(45660, 4.652079105377197), (57352, 4.5650959...</td>\n",
       "      <td>45660,57352,35294,45753,41317,28804,40031,5558...</td>\n",
       "    </tr>\n",
       "    <tr>\n",
       "      <th>1</th>\n",
       "      <td>6067</td>\n",
       "      <td>[(39900, 7.333075523376465), (54358, 7.2294416...</td>\n",
       "      <td>39900,54358,49692,50738,43645,43644,45968,5197...</td>\n",
       "    </tr>\n",
       "    <tr>\n",
       "      <th>2</th>\n",
       "      <td>692</td>\n",
       "      <td>[(39900, 6.409720420837402), (40344, 6.3910088...</td>\n",
       "      <td>39900,40344,35294,45968,39879,39736,35410,4859...</td>\n",
       "    </tr>\n",
       "    <tr>\n",
       "      <th>3</th>\n",
       "      <td>44711</td>\n",
       "      <td>[(53624, 5.558377265930176), (56525, 5.3301939...</td>\n",
       "      <td>53624,56525,56538,57836,59307,55505,53388,5558...</td>\n",
       "    </tr>\n",
       "    <tr>\n",
       "      <th>4</th>\n",
       "      <td>42470</td>\n",
       "      <td>[(45968, 8.464125633239746), (39900, 8.3477182...</td>\n",
       "      <td>45968,39900,45225,39736,46474,45753,45319,4547...</td>\n",
       "    </tr>\n",
       "    <tr>\n",
       "      <th>5</th>\n",
       "      <td>10561</td>\n",
       "      <td>[(40344, 7.181835174560547), (45968, 6.9910750...</td>\n",
       "      <td>40344,45968,40170,39900,45660,46474,25663,3225...</td>\n",
       "    </tr>\n",
       "    <tr>\n",
       "      <th>6</th>\n",
       "      <td>64502</td>\n",
       "      <td>[(45968, 7.220042705535889), (45225, 7.1862854...</td>\n",
       "      <td>45968,45225,39900,40549,41317,46660,51965,5197...</td>\n",
       "    </tr>\n",
       "    <tr>\n",
       "      <th>7</th>\n",
       "      <td>11935</td>\n",
       "      <td>[(24821, 6.852869987487793), (56435, 6.7208681...</td>\n",
       "      <td>24821,56435,32250,25663,45231,48596,51459,4977...</td>\n",
       "    </tr>\n",
       "    <tr>\n",
       "      <th>8</th>\n",
       "      <td>11967</td>\n",
       "      <td>[(40344, 6.112934112548828), (40170, 5.5954408...</td>\n",
       "      <td>40344,40170,54035,52554,56305,43125,45660,3529...</td>\n",
       "    </tr>\n",
       "    <tr>\n",
       "      <th>9</th>\n",
       "      <td>38249</td>\n",
       "      <td>[(53877, 7.046797752380371), (45968, 6.9446749...</td>\n",
       "      <td>53877,45968,54177,40344,40703,46265,53898,4666...</td>\n",
       "    </tr>\n",
       "    <tr>\n",
       "      <th>10</th>\n",
       "      <td>100966</td>\n",
       "      <td>[(45660, 5.389538288116455), (53567, 5.1871805...</td>\n",
       "      <td>45660,53567,45319,55154,47032,47033,32066,4070...</td>\n",
       "    </tr>\n",
       "    <tr>\n",
       "      <th>11</th>\n",
       "      <td>14269</td>\n",
       "      <td>[(53624, 6.399256706237793), (46498, 6.2741394...</td>\n",
       "      <td>53624,46498,57836,55357,56525,39900,45453,5409...</td>\n",
       "    </tr>\n",
       "    <tr>\n",
       "      <th>12</th>\n",
       "      <td>24594</td>\n",
       "      <td>[(53136, 6.653947353363037), (53898, 6.6350665...</td>\n",
       "      <td>53136,53898,46703,24752,57352,46479,46932,4666...</td>\n",
       "    </tr>\n",
       "    <tr>\n",
       "      <th>13</th>\n",
       "      <td>56349</td>\n",
       "      <td>[(41571, 3.456603527069092), (48648, 3.3812582...</td>\n",
       "      <td>41571,48648,54035,35431,31752,54597,43489,3942...</td>\n",
       "    </tr>\n",
       "    <tr>\n",
       "      <th>14</th>\n",
       "      <td>5858</td>\n",
       "      <td>[(46474, 7.250389575958252), (53136, 6.8102197...</td>\n",
       "      <td>46474,53136,45753,53796,58874,39900,35410,4647...</td>\n",
       "    </tr>\n",
       "    <tr>\n",
       "      <th>15</th>\n",
       "      <td>4800</td>\n",
       "      <td>[(45968, 6.7541823387146), (39900, 6.749697208...</td>\n",
       "      <td>45968,39900,39736,45319,40031,40549,45225,5653...</td>\n",
       "    </tr>\n",
       "    <tr>\n",
       "      <th>16</th>\n",
       "      <td>28553</td>\n",
       "      <td>[(46265, 6.747983932495117), (35410, 6.7097511...</td>\n",
       "      <td>46265,35410,53508,45225,40344,40170,54177,5387...</td>\n",
       "    </tr>\n",
       "    <tr>\n",
       "      <th>17</th>\n",
       "      <td>14024</td>\n",
       "      <td>[(40703, 6.887734413146973), (45968, 6.8448452...</td>\n",
       "      <td>40703,45968,47032,47033,55154,45319,39736,4670...</td>\n",
       "    </tr>\n",
       "    <tr>\n",
       "      <th>18</th>\n",
       "      <td>3980</td>\n",
       "      <td>[(46474, 8.990754127502441), (45753, 7.8117384...</td>\n",
       "      <td>46474,45753,46729,39887,53489,43049,30851,4593...</td>\n",
       "    </tr>\n",
       "    <tr>\n",
       "      <th>19</th>\n",
       "      <td>56714</td>\n",
       "      <td>[(40549, 6.758642673492432), (45660, 6.7540531...</td>\n",
       "      <td>40549,45660,45225,53388,39900,45968,51975,6067...</td>\n",
       "    </tr>\n",
       "  </tbody>\n",
       "</table>\n",
       "</div>"
      ],
      "text/plain": [
       "    reviewerID_index                                    recommendations  \\\n",
       "0              49202  [(45660, 4.652079105377197), (57352, 4.5650959...   \n",
       "1               6067  [(39900, 7.333075523376465), (54358, 7.2294416...   \n",
       "2                692  [(39900, 6.409720420837402), (40344, 6.3910088...   \n",
       "3              44711  [(53624, 5.558377265930176), (56525, 5.3301939...   \n",
       "4              42470  [(45968, 8.464125633239746), (39900, 8.3477182...   \n",
       "5              10561  [(40344, 7.181835174560547), (45968, 6.9910750...   \n",
       "6              64502  [(45968, 7.220042705535889), (45225, 7.1862854...   \n",
       "7              11935  [(24821, 6.852869987487793), (56435, 6.7208681...   \n",
       "8              11967  [(40344, 6.112934112548828), (40170, 5.5954408...   \n",
       "9              38249  [(53877, 7.046797752380371), (45968, 6.9446749...   \n",
       "10            100966  [(45660, 5.389538288116455), (53567, 5.1871805...   \n",
       "11             14269  [(53624, 6.399256706237793), (46498, 6.2741394...   \n",
       "12             24594  [(53136, 6.653947353363037), (53898, 6.6350665...   \n",
       "13             56349  [(41571, 3.456603527069092), (48648, 3.3812582...   \n",
       "14              5858  [(46474, 7.250389575958252), (53136, 6.8102197...   \n",
       "15              4800  [(45968, 6.7541823387146), (39900, 6.749697208...   \n",
       "16             28553  [(46265, 6.747983932495117), (35410, 6.7097511...   \n",
       "17             14024  [(40703, 6.887734413146973), (45968, 6.8448452...   \n",
       "18              3980  [(46474, 8.990754127502441), (45753, 7.8117384...   \n",
       "19             56714  [(40549, 6.758642673492432), (45660, 6.7540531...   \n",
       "\n",
       "                                   recommended_ebooks  \n",
       "0   45660,57352,35294,45753,41317,28804,40031,5558...  \n",
       "1   39900,54358,49692,50738,43645,43644,45968,5197...  \n",
       "2   39900,40344,35294,45968,39879,39736,35410,4859...  \n",
       "3   53624,56525,56538,57836,59307,55505,53388,5558...  \n",
       "4   45968,39900,45225,39736,46474,45753,45319,4547...  \n",
       "5   40344,45968,40170,39900,45660,46474,25663,3225...  \n",
       "6   45968,45225,39900,40549,41317,46660,51965,5197...  \n",
       "7   24821,56435,32250,25663,45231,48596,51459,4977...  \n",
       "8   40344,40170,54035,52554,56305,43125,45660,3529...  \n",
       "9   53877,45968,54177,40344,40703,46265,53898,4666...  \n",
       "10  45660,53567,45319,55154,47032,47033,32066,4070...  \n",
       "11  53624,46498,57836,55357,56525,39900,45453,5409...  \n",
       "12  53136,53898,46703,24752,57352,46479,46932,4666...  \n",
       "13  41571,48648,54035,35431,31752,54597,43489,3942...  \n",
       "14  46474,53136,45753,53796,58874,39900,35410,4647...  \n",
       "15  45968,39900,39736,45319,40031,40549,45225,5653...  \n",
       "16  46265,35410,53508,45225,40344,40170,54177,5387...  \n",
       "17  40703,45968,47032,47033,55154,45319,39736,4670...  \n",
       "18  46474,45753,46729,39887,53489,43049,30851,4593...  \n",
       "19  40549,45660,45225,53388,39900,45968,51975,6067...  "
      ]
     },
     "execution_count": 20,
     "metadata": {
      "tags": []
     },
     "output_type": "execute_result"
    }
   ],
   "source": [
    "reviewer_subset_recs['recommended_ebooks'] = reviewer_subset_recs.apply(asin_index_taker, axis=1)\n",
    "reviewer_subset_recs"
   ]
  },
  {
   "cell_type": "code",
   "execution_count": null,
   "metadata": {
    "id": "eeU8KRBAYyRW",
    "outputId": "aab25e59-0d5a-45cc-d0fe-13611e4a51e9"
   },
   "outputs": [
    {
     "name": "stdout",
     "output_type": "stream",
     "text": [
      "+----------+--------------------+\n",
      "|asin_index|     recommendations|\n",
      "+----------+--------------------+\n",
      "|       496|[{14888, 5.697975...|\n",
      "|     16916|[{19077, 5.598465...|\n",
      "|     52567|[{39117, 5.958514...|\n",
      "|     52435|[{23615, 5.552301...|\n",
      "|     39252|[{33733, 5.203089...|\n",
      "|     12467|[{4250, 5.721651}...|\n",
      "|     34614|[{3903, 6.417584}...|\n",
      "|     27240|[{3903, 5.943151}...|\n",
      "|     24533|[{64595, 6.794214...|\n",
      "|     27352|[{9061, 5.4639626...|\n",
      "|     22195|[{40675, 6.327536...|\n",
      "|       299|[{64595, 5.368647...|\n",
      "|     14452|[{64595, 6.192099...|\n",
      "|     45177|[{14888, 7.275992...|\n",
      "|     18436|[{49696, 5.884264...|\n",
      "|     52633|[{16336, 7.35494}...|\n",
      "|     52546|[{10929, 5.082058...|\n",
      "|      1761|[{61872, 7.091876...|\n",
      "|     39221|[{45916, 6.358160...|\n",
      "|     52827|[{25977, 5.326917...|\n",
      "+----------+--------------------+\n",
      "\n"
     ]
    }
   ],
   "source": [
    "# top 10 reviewer recs for ebook subset\n",
    "ebooks = transformed.select(als.getItemCol()).distinct().limit(20) \n",
    "ebook_subset_recs = model.recommendForItemSubset(ebooks, 10) \n",
    "ebook_subset_recs.show()"
   ]
  },
  {
   "cell_type": "code",
   "execution_count": null,
   "metadata": {
    "id": "B-8YZmc9YyRW",
    "outputId": "92c8baff-a19d-486b-9cab-7f96fc158983"
   },
   "outputs": [
    {
     "data": {
      "text/html": [
       "<div>\n",
       "<style scoped>\n",
       "    .dataframe tbody tr th:only-of-type {\n",
       "        vertical-align: middle;\n",
       "    }\n",
       "\n",
       "    .dataframe tbody tr th {\n",
       "        vertical-align: top;\n",
       "    }\n",
       "\n",
       "    .dataframe thead th {\n",
       "        text-align: right;\n",
       "    }\n",
       "</style>\n",
       "<table border=\"1\" class=\"dataframe\">\n",
       "  <thead>\n",
       "    <tr style=\"text-align: right;\">\n",
       "      <th></th>\n",
       "      <th>asin_index</th>\n",
       "      <th>recommendations</th>\n",
       "    </tr>\n",
       "  </thead>\n",
       "  <tbody>\n",
       "    <tr>\n",
       "      <th>0</th>\n",
       "      <td>496</td>\n",
       "      <td>[(14888, 5.697975158691406), (18901, 5.6228938...</td>\n",
       "    </tr>\n",
       "    <tr>\n",
       "      <th>1</th>\n",
       "      <td>16916</td>\n",
       "      <td>[(19077, 5.598465442657471), (42474, 5.5538649...</td>\n",
       "    </tr>\n",
       "    <tr>\n",
       "      <th>2</th>\n",
       "      <td>52567</td>\n",
       "      <td>[(39117, 5.95851469039917), (5504, 5.848324298...</td>\n",
       "    </tr>\n",
       "    <tr>\n",
       "      <th>3</th>\n",
       "      <td>52435</td>\n",
       "      <td>[(23615, 5.552301406860352), (7545, 5.51210021...</td>\n",
       "    </tr>\n",
       "    <tr>\n",
       "      <th>4</th>\n",
       "      <td>39252</td>\n",
       "      <td>[(33733, 5.203089237213135), (5543, 5.12551689...</td>\n",
       "    </tr>\n",
       "  </tbody>\n",
       "</table>\n",
       "</div>"
      ],
      "text/plain": [
       "   asin_index                                    recommendations\n",
       "0         496  [(14888, 5.697975158691406), (18901, 5.6228938...\n",
       "1       16916  [(19077, 5.598465442657471), (42474, 5.5538649...\n",
       "2       52567  [(39117, 5.95851469039917), (5504, 5.848324298...\n",
       "3       52435  [(23615, 5.552301406860352), (7545, 5.51210021...\n",
       "4       39252  [(33733, 5.203089237213135), (5543, 5.12551689..."
      ]
     },
     "execution_count": 22,
     "metadata": {
      "tags": []
     },
     "output_type": "execute_result"
    }
   ],
   "source": [
    "ebook_subset_recs = ebook_subset_recs.toPandas()\n",
    "ebook_subset_recs.head()"
   ]
  },
  {
   "cell_type": "code",
   "execution_count": null,
   "metadata": {
    "id": "JIwEp7mVYyRW"
   },
   "outputs": [],
   "source": [
    "# function to take reviewer ids\n",
    "def reviewer_id_index_taker(row):\n",
    "    reviewerID_index = ''\n",
    "    for i in row['recommendations']:\n",
    "        reviewerID_index += str(i['reviewerID_index']) + ','\n",
    "    return reviewerID_index"
   ]
  },
  {
   "cell_type": "code",
   "execution_count": null,
   "metadata": {
    "id": "4X8-Y4n7YyRX",
    "outputId": "7b94a858-fe87-4f30-f425-c3e47316f66e"
   },
   "outputs": [
    {
     "data": {
      "text/html": [
       "<div>\n",
       "<style scoped>\n",
       "    .dataframe tbody tr th:only-of-type {\n",
       "        vertical-align: middle;\n",
       "    }\n",
       "\n",
       "    .dataframe tbody tr th {\n",
       "        vertical-align: top;\n",
       "    }\n",
       "\n",
       "    .dataframe thead th {\n",
       "        text-align: right;\n",
       "    }\n",
       "</style>\n",
       "<table border=\"1\" class=\"dataframe\">\n",
       "  <thead>\n",
       "    <tr style=\"text-align: right;\">\n",
       "      <th></th>\n",
       "      <th>asin_index</th>\n",
       "      <th>recommendations</th>\n",
       "      <th>recommended_reviewers</th>\n",
       "    </tr>\n",
       "  </thead>\n",
       "  <tbody>\n",
       "    <tr>\n",
       "      <th>0</th>\n",
       "      <td>496</td>\n",
       "      <td>[(14888, 5.697975158691406), (18901, 5.6228938...</td>\n",
       "      <td>14888,18901,16403,5228,38438,62898,40086,30723...</td>\n",
       "    </tr>\n",
       "    <tr>\n",
       "      <th>1</th>\n",
       "      <td>16916</td>\n",
       "      <td>[(19077, 5.598465442657471), (42474, 5.5538649...</td>\n",
       "      <td>19077,42474,25775,10929,10273,23615,56328,4245...</td>\n",
       "    </tr>\n",
       "    <tr>\n",
       "      <th>2</th>\n",
       "      <td>52567</td>\n",
       "      <td>[(39117, 5.95851469039917), (5504, 5.848324298...</td>\n",
       "      <td>39117,5504,4734,3511,34855,59316,55864,10095,3...</td>\n",
       "    </tr>\n",
       "    <tr>\n",
       "      <th>3</th>\n",
       "      <td>52435</td>\n",
       "      <td>[(23615, 5.552301406860352), (7545, 5.51210021...</td>\n",
       "      <td>23615,7545,2226,62585,12253,10929,32355,32341,...</td>\n",
       "    </tr>\n",
       "    <tr>\n",
       "      <th>4</th>\n",
       "      <td>39252</td>\n",
       "      <td>[(33733, 5.203089237213135), (5543, 5.12551689...</td>\n",
       "      <td>33733,5543,41170,9061,55390,584,29902,12253,97...</td>\n",
       "    </tr>\n",
       "    <tr>\n",
       "      <th>5</th>\n",
       "      <td>12467</td>\n",
       "      <td>[(4250, 5.721651077270508), (4734, 5.653865337...</td>\n",
       "      <td>4250,4734,16118,2546,2333,20987,17121,59744,51...</td>\n",
       "    </tr>\n",
       "    <tr>\n",
       "      <th>6</th>\n",
       "      <td>34614</td>\n",
       "      <td>[(3903, 6.41758394241333), (44458, 6.357718944...</td>\n",
       "      <td>3903,44458,10929,7545,42474,14888,5228,2420,35...</td>\n",
       "    </tr>\n",
       "    <tr>\n",
       "      <th>7</th>\n",
       "      <td>27240</td>\n",
       "      <td>[(3903, 5.943150997161865), (33830, 5.92713689...</td>\n",
       "      <td>3903,33830,42474,28742,5228,1874,12253,56328,4...</td>\n",
       "    </tr>\n",
       "    <tr>\n",
       "      <th>8</th>\n",
       "      <td>24533</td>\n",
       "      <td>[(64595, 6.794214725494385), (12204, 6.6569657...</td>\n",
       "      <td>64595,12204,49748,10929,32355,63523,18538,3950...</td>\n",
       "    </tr>\n",
       "    <tr>\n",
       "      <th>9</th>\n",
       "      <td>27352</td>\n",
       "      <td>[(9061, 5.463962554931641), (14888, 5.41079139...</td>\n",
       "      <td>9061,14888,34799,37852,63888,10929,2420,64027,...</td>\n",
       "    </tr>\n",
       "    <tr>\n",
       "      <th>10</th>\n",
       "      <td>22195</td>\n",
       "      <td>[(40675, 6.327536106109619), (32951, 6.2923212...</td>\n",
       "      <td>40675,32951,12484,27139,49220,63888,49748,4696...</td>\n",
       "    </tr>\n",
       "    <tr>\n",
       "      <th>11</th>\n",
       "      <td>299</td>\n",
       "      <td>[(64595, 5.36864709854126), (14748, 5.26033639...</td>\n",
       "      <td>64595,14748,4734,18538,20024,53970,40739,49452...</td>\n",
       "    </tr>\n",
       "    <tr>\n",
       "      <th>12</th>\n",
       "      <td>14452</td>\n",
       "      <td>[(64595, 6.192099094390869), (18538, 6.0479574...</td>\n",
       "      <td>64595,18538,40739,14895,24454,14748,66417,3971...</td>\n",
       "    </tr>\n",
       "    <tr>\n",
       "      <th>13</th>\n",
       "      <td>45177</td>\n",
       "      <td>[(14888, 7.275992393493652), (11815, 7.1089191...</td>\n",
       "      <td>14888,11815,62585,23615,10929,40277,61108,6402...</td>\n",
       "    </tr>\n",
       "    <tr>\n",
       "      <th>14</th>\n",
       "      <td>18436</td>\n",
       "      <td>[(49696, 5.8842644691467285), (64595, 5.695288...</td>\n",
       "      <td>49696,64595,14895,9061,27637,24454,31110,40739...</td>\n",
       "    </tr>\n",
       "    <tr>\n",
       "      <th>15</th>\n",
       "      <td>52633</td>\n",
       "      <td>[(16336, 7.354939937591553), (24175, 6.9153270...</td>\n",
       "      <td>16336,24175,27637,34587,19513,64027,14888,5009...</td>\n",
       "    </tr>\n",
       "    <tr>\n",
       "      <th>16</th>\n",
       "      <td>52546</td>\n",
       "      <td>[(10929, 5.082057952880859), (14888, 5.0379681...</td>\n",
       "      <td>10929,14888,52967,5228,16403,44458,37852,20987...</td>\n",
       "    </tr>\n",
       "    <tr>\n",
       "      <th>17</th>\n",
       "      <td>1761</td>\n",
       "      <td>[(61872, 7.091876029968262), (4107, 6.86676692...</td>\n",
       "      <td>61872,4107,38065,5543,44458,57541,49696,36969,...</td>\n",
       "    </tr>\n",
       "    <tr>\n",
       "      <th>18</th>\n",
       "      <td>39221</td>\n",
       "      <td>[(45916, 6.358160495758057), (4107, 6.31987619...</td>\n",
       "      <td>45916,4107,55390,9791,12253,584,28742,27046,34...</td>\n",
       "    </tr>\n",
       "    <tr>\n",
       "      <th>19</th>\n",
       "      <td>52827</td>\n",
       "      <td>[(25977, 5.32691764831543), (22337, 5.29110717...</td>\n",
       "      <td>25977,22337,41746,12275,49696,43480,64027,5543...</td>\n",
       "    </tr>\n",
       "  </tbody>\n",
       "</table>\n",
       "</div>"
      ],
      "text/plain": [
       "    asin_index                                    recommendations  \\\n",
       "0          496  [(14888, 5.697975158691406), (18901, 5.6228938...   \n",
       "1        16916  [(19077, 5.598465442657471), (42474, 5.5538649...   \n",
       "2        52567  [(39117, 5.95851469039917), (5504, 5.848324298...   \n",
       "3        52435  [(23615, 5.552301406860352), (7545, 5.51210021...   \n",
       "4        39252  [(33733, 5.203089237213135), (5543, 5.12551689...   \n",
       "5        12467  [(4250, 5.721651077270508), (4734, 5.653865337...   \n",
       "6        34614  [(3903, 6.41758394241333), (44458, 6.357718944...   \n",
       "7        27240  [(3903, 5.943150997161865), (33830, 5.92713689...   \n",
       "8        24533  [(64595, 6.794214725494385), (12204, 6.6569657...   \n",
       "9        27352  [(9061, 5.463962554931641), (14888, 5.41079139...   \n",
       "10       22195  [(40675, 6.327536106109619), (32951, 6.2923212...   \n",
       "11         299  [(64595, 5.36864709854126), (14748, 5.26033639...   \n",
       "12       14452  [(64595, 6.192099094390869), (18538, 6.0479574...   \n",
       "13       45177  [(14888, 7.275992393493652), (11815, 7.1089191...   \n",
       "14       18436  [(49696, 5.8842644691467285), (64595, 5.695288...   \n",
       "15       52633  [(16336, 7.354939937591553), (24175, 6.9153270...   \n",
       "16       52546  [(10929, 5.082057952880859), (14888, 5.0379681...   \n",
       "17        1761  [(61872, 7.091876029968262), (4107, 6.86676692...   \n",
       "18       39221  [(45916, 6.358160495758057), (4107, 6.31987619...   \n",
       "19       52827  [(25977, 5.32691764831543), (22337, 5.29110717...   \n",
       "\n",
       "                                recommended_reviewers  \n",
       "0   14888,18901,16403,5228,38438,62898,40086,30723...  \n",
       "1   19077,42474,25775,10929,10273,23615,56328,4245...  \n",
       "2   39117,5504,4734,3511,34855,59316,55864,10095,3...  \n",
       "3   23615,7545,2226,62585,12253,10929,32355,32341,...  \n",
       "4   33733,5543,41170,9061,55390,584,29902,12253,97...  \n",
       "5   4250,4734,16118,2546,2333,20987,17121,59744,51...  \n",
       "6   3903,44458,10929,7545,42474,14888,5228,2420,35...  \n",
       "7   3903,33830,42474,28742,5228,1874,12253,56328,4...  \n",
       "8   64595,12204,49748,10929,32355,63523,18538,3950...  \n",
       "9   9061,14888,34799,37852,63888,10929,2420,64027,...  \n",
       "10  40675,32951,12484,27139,49220,63888,49748,4696...  \n",
       "11  64595,14748,4734,18538,20024,53970,40739,49452...  \n",
       "12  64595,18538,40739,14895,24454,14748,66417,3971...  \n",
       "13  14888,11815,62585,23615,10929,40277,61108,6402...  \n",
       "14  49696,64595,14895,9061,27637,24454,31110,40739...  \n",
       "15  16336,24175,27637,34587,19513,64027,14888,5009...  \n",
       "16  10929,14888,52967,5228,16403,44458,37852,20987...  \n",
       "17  61872,4107,38065,5543,44458,57541,49696,36969,...  \n",
       "18  45916,4107,55390,9791,12253,584,28742,27046,34...  \n",
       "19  25977,22337,41746,12275,49696,43480,64027,5543...  "
      ]
     },
     "execution_count": 24,
     "metadata": {
      "tags": []
     },
     "output_type": "execute_result"
    }
   ],
   "source": [
    "ebook_subset_recs['users_recommended_to'] = ebook_subset_recs.apply(reviewer_id_index_taker, axis=1)\n",
    "ebook_subset_recs"
   ]
  }
 ],
 "metadata": {
  "colab": {
   "name": "KindleRecommender_ALS EDITED.ipynb",
   "provenance": []
  },
  "kernelspec": {
   "display_name": "Python 3",
   "language": "python",
   "name": "python3"
  },
  "language_info": {
   "codemirror_mode": {
    "name": "ipython",
    "version": 3
   },
   "file_extension": ".py",
   "mimetype": "text/x-python",
   "name": "python",
   "nbconvert_exporter": "python",
   "pygments_lexer": "ipython3",
   "version": "3.8.3"
  }
 },
 "nbformat": 4,
 "nbformat_minor": 1
}
